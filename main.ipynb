{
 "cells": [
  {
   "attachments": {},
   "cell_type": "markdown",
   "metadata": {},
   "source": [
    "## Notes\n",
    "Search is limited to 1000 results per query\n",
    "To overcome this, we can use search by date and run the search multiple times\n",
    "\n",
    "### Example:\n",
    "```\n",
    "query1 = \"bubblesort hej language:Java created:2021-01-01..2021-01-31\"\n",
    "query2 = \"bubblesort hej language:Java created:2021-02-01..2021-02-28\"\n",
    "query3 = \"bubblesort hej language:Java created:2021-03-01..2021-03-31\"\n",
    "```"
   ]
  },
  {
   "cell_type": "code",
   "execution_count": 1,
   "metadata": {},
   "outputs": [],
   "source": [
    "from Crawler.Crawler import Crawler\n",
    "from Parser.Parser import CodeParser\n",
    "\n",
    "import os\n",
    "from dotenv import load_dotenv"
   ]
  },
  {
   "cell_type": "code",
   "execution_count": 2,
   "metadata": {},
   "outputs": [],
   "source": [
    "load_dotenv(\".env\")\n",
    "GITHUB_ACCESS_TOKEN = os.getenv(\"GITHUB_ACCESS_TOKEN\")"
   ]
  },
  {
   "cell_type": "code",
   "execution_count": 3,
   "metadata": {},
   "outputs": [],
   "source": [
    "crawler = Crawler(\"java\", access_token=GITHUB_ACCESS_TOKEN)\n",
    "parser = CodeParser(\"java\")"
   ]
  },
  {
   "cell_type": "code",
   "execution_count": 4,
   "metadata": {},
   "outputs": [
    {
     "name": "stdout",
     "output_type": "stream",
     "text": [
      "You have 30/30 API calls remaining, reset time: 2023-04-27 14:55:29\n"
     ]
    }
   ],
   "source": [
    "query = \"created:>2023-04-20 stars:>10 language:Java\"\n",
    "repo_res = crawler.search_repos(query)\n",
    "repo_res = repo_res[:2]"
   ]
  },
  {
   "cell_type": "code",
   "execution_count": 5,
   "metadata": {},
   "outputs": [
    {
     "name": "stdout",
     "output_type": "stream",
     "text": [
      "Repo:  GhidRust\n",
      "Files:  {'code': ContentFile(path=\"src/main/java/ghidrust/analyzer/RustStdAnalyzer.java\"), 'url': 'https://github.com/DMaroo/GhidRust/blob/master/src/main/java/ghidrust/analyzer/RustStdAnalyzer.java'}\n",
      "Files:  70\n",
      "Repo:  datetime233\n",
      "Files:  {'code': ContentFile(path=\"src/main/java/com/neko233/datetime/DateTime233.java\"), 'url': 'https://github.com/SolarisNeko/datetime233/blob/main/src/main/java/com/neko233/datetime/DateTime233.java'}\n",
      "Files:  22\n"
     ]
    }
   ],
   "source": [
    "for repo_ in repo_res:\n",
    "    files = crawler.get_java_files(repo_)\n",
    "\n",
    "    print(\"Repo: \", repo_.name)\n",
    "    print(\"Files: \", files[0])\n",
    "    print(\"Files: \", len(files))"
   ]
  },
  {
   "cell_type": "code",
   "execution_count": 6,
   "metadata": {},
   "outputs": [
    {
     "ename": "NameError",
     "evalue": "name 'res' is not defined",
     "output_type": "error",
     "traceback": [
      "\u001b[0;31m---------------------------------------------------------------------------\u001b[0m",
      "\u001b[0;31mNameError\u001b[0m                                 Traceback (most recent call last)",
      "Cell \u001b[0;32mIn[6], line 2\u001b[0m\n\u001b[1;32m      1\u001b[0m parsed \u001b[39m=\u001b[39m []\n\u001b[0;32m----> 2\u001b[0m \u001b[39mfor\u001b[39;00m file \u001b[39min\u001b[39;00m res:\n\u001b[1;32m      3\u001b[0m     code \u001b[39m=\u001b[39m file[\u001b[39m\"\u001b[39m\u001b[39mcode\u001b[39m\u001b[39m\"\u001b[39m]\u001b[39m.\u001b[39mdecoded_content\u001b[39m.\u001b[39mdecode(\u001b[39m\"\u001b[39m\u001b[39mutf-8\u001b[39m\u001b[39m\"\u001b[39m)\n\u001b[1;32m      4\u001b[0m     res \u001b[39m=\u001b[39m parser\u001b[39m.\u001b[39mparseFile(code)\n",
      "\u001b[0;31mNameError\u001b[0m: name 'res' is not defined"
     ]
    }
   ],
   "source": [
    "parsed = []\n",
    "for file in res:\n",
    "    code = file[\"code\"].decoded_content.decode(\"utf-8\")\n",
    "    res = parser.parseFile(code)\n",
    "    parsed.append(res)    "
   ]
  },
  {
   "cell_type": "code",
   "execution_count": null,
   "metadata": {},
   "outputs": [],
   "source": [
    "for parsedFile in parsed:\n",
    "    for class_ in parsedFile[\"classes\"]:\n",
    "        print(\"ClassName: \", class_[\"name\"])\n",
    "        for method in class_[\"methods\"]:\n",
    "            print(\"\\t MethodName: \", method[\"name\"], \"ReturnType: \", method[\"return_type\"])"
   ]
  }
 ],
 "metadata": {
  "kernelspec": {
   "display_name": "congenial-system",
   "language": "python",
   "name": "python3"
  },
  "language_info": {
   "codemirror_mode": {
    "name": "ipython",
    "version": 3
   },
   "file_extension": ".py",
   "mimetype": "text/x-python",
   "name": "python",
   "nbconvert_exporter": "python",
   "pygments_lexer": "ipython3",
   "version": "3.8.16"
  },
  "orig_nbformat": 4
 },
 "nbformat": 4,
 "nbformat_minor": 2
}
